{
  "cells": [
    {
      "cell_type": "markdown",
      "metadata": {
        "id": "view-in-github",
        "colab_type": "text"
      },
      "source": [
        "<a href=\"https://colab.research.google.com/github/angelosil/txt-analise/blob/main/txtanalise.ipynb\" target=\"_parent\"><img src=\"https://colab.research.google.com/assets/colab-badge.svg\" alt=\"Open In Colab\"/></a>"
      ]
    },
    {
      "cell_type": "markdown",
      "source": [
        "## Carregue um ou mais arquivos TXT para analise\n",
        "### use o arquivo roma.txt como exemplo disponivel no repositorio\n",
        "\n",
        "Faça qualquer pergunta sobre os textos carregados:\n",
        "### Por exemplo:\n",
        "\n",
        "* Faça um resumo do texto\n",
        "* Quais nomes aparecem no texto\n",
        "* Liste os telefones contidos no texto\n",
        "*\n",
        "\n",
        "---\n",
        "\n",
        "### Importante:\n",
        "##### Informe sua api_key. Para obter uma acesse: [Google API Key](https://aistudio.google.com/app/apikey)\n",
        "##### Utilize apenas arquivos .txt.\n",
        "##### Se necessário faça o carregamento das seguintes libs:\n",
        "##### !pip install google-generativeai\n",
        "\n",
        "### Pontos de melhoria para futura versão\n",
        "#### Implementar chamadas de OCR para carregamento de imagens/pdf e outros arquivos manuscritos."
      ],
      "metadata": {
        "id": "nvMBvNIQ-g2N"
      }
    },
    {
      "cell_type": "code",
      "source": [
        "# !pip install google-generativeai"
      ],
      "metadata": {
        "id": "0Beth6Ob_yv1"
      },
      "execution_count": null,
      "outputs": []
    },
    {
      "cell_type": "markdown",
      "source": [
        "Carregamento das variaveis e metodos utilizados"
      ],
      "metadata": {
        "id": "X9dBxiNPAwr6"
      }
    },
    {
      "cell_type": "code",
      "execution_count": null,
      "metadata": {
        "id": "yqqzF0oyUpsG"
      },
      "outputs": [],
      "source": [
        "import google.generativeai as genai\n",
        "from google.colab import files\n",
        "from google.colab import userdata\n",
        "import hashlib\n",
        "\n",
        "apikey = \"<INFORME_SUA_API_KEY>\"\n",
        "\n",
        "genai.configure(api_key=apikey)\n",
        "\n",
        "# Set up the model\n",
        "generation_config = {\n",
        "  \"candidate_count\": 1,\n",
        "  \"temperature\": 1,\n",
        "  \"top_p\": 0.95,\n",
        "  \"top_k\": 0,\n",
        "  \"max_output_tokens\": 8192,\n",
        "}\n",
        "\n",
        "safety_settings = [\n",
        "  {\n",
        "    \"category\": \"HARM_CATEGORY_HARASSMENT\",\n",
        "    \"threshold\": \"BLOCK_NONE\"\n",
        "  },\n",
        "  {\n",
        "    \"category\": \"HARM_CATEGORY_HATE_SPEECH\",\n",
        "    \"threshold\": \"BLOCK_NONE\"\n",
        "  },\n",
        "  {\n",
        "    \"category\": \"HARM_CATEGORY_SEXUALLY_EXPLICIT\",\n",
        "    \"threshold\": \"BLOCK_NONE\"\n",
        "  },\n",
        "  {\n",
        "    \"category\": \"HARM_CATEGORY_DANGEROUS_CONTENT\",\n",
        "    \"threshold\": \"BLOCK_NONE\"\n",
        "  },\n",
        "]\n",
        "\n",
        "system_instruction = \"Você uma analisador de textos. Forneça respostas usando apenas os dados de entrada. Caso não tenha informações nos dados de entrada retorne o texto 'Não existe dados suficiente para uma resposta' \"\n",
        "\n",
        "model = genai.GenerativeModel(model_name=\"gemini-1.5-pro-latest\",\n",
        "                              generation_config=generation_config,\n",
        "                              system_instruction=system_instruction,\n",
        "                              safety_settings=safety_settings)\n",
        "\n"
      ]
    },
    {
      "cell_type": "code",
      "source": [
        "def uploadfile():\n",
        "  print(\"Insira seu(s) arquivo(s) Txt(s): \")\n",
        "  uploaded = files.upload()\n",
        "  conteudo = []\n",
        "  arquivos_txt = {nome: conteudo for nome, conteudo in uploaded.items() if nome.endswith('.txt')}\n",
        "\n",
        "  for nome, conteudofile in arquivos_txt.items():\n",
        "    print(f\"Nome do arquivo: {nome}\")\n",
        "    conteudo_decode = conteudofile.decode()\n",
        "    conteudo.append(conteudo_decode)\n",
        "\n",
        "  return conteudo\n"
      ],
      "metadata": {
        "id": "rBtdw5m3fOHP"
      },
      "execution_count": null,
      "outputs": []
    },
    {
      "cell_type": "code",
      "source": [
        "def loadPrompt():\n",
        "    try:\n",
        "      conteudo = uploadfile()\n",
        "\n",
        "      dados = (cont for cont in conteudo)\n",
        "      dados_string = '\\n'.join(next(dados))\n",
        "\n",
        "      convo = model.start_chat(history=[\n",
        "        {\n",
        "          \"role\": \"user\",\n",
        "          \"parts\": [dados_string]\n",
        "        }\n",
        "      ])\n",
        "\n",
        "      prompt = \"\"\n",
        "\n",
        "      print(\"Faça uma pergunda sobre o conteudo do arquivo ou digite 'fim' para finalisar\")\n",
        "\n",
        "      while prompt !=\"fim\":\n",
        "        prompt = input(\"Esperando prompt: \")\n",
        "        convo.send_message(prompt)\n",
        "        print(convo.last.text)\n",
        "    except StopIteration:\n",
        "        print(\"Sem do conteúdo para analisar\")\n",
        "    except Exception as e:\n",
        "        print(\"Ocorreu um erro:\", e)\n"
      ],
      "metadata": {
        "id": "heCP68hceTWW"
      },
      "execution_count": null,
      "outputs": []
    },
    {
      "cell_type": "code",
      "source": [
        "loadPrompt()"
      ],
      "metadata": {
        "id": "CgSbqesCfVqM"
      },
      "execution_count": null,
      "outputs": []
    }
  ],
  "metadata": {
    "colab": {
      "provenance": [],
      "authorship_tag": "ABX9TyOjm+AuFq/So+83Hl4Aw527",
      "include_colab_link": true
    },
    "kernelspec": {
      "display_name": "Python 3",
      "name": "python3"
    },
    "language_info": {
      "name": "python"
    }
  },
  "nbformat": 4,
  "nbformat_minor": 0
}